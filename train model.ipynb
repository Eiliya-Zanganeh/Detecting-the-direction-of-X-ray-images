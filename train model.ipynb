{
 "cells": [
  {
   "cell_type": "code",
   "execution_count": 1,
   "metadata": {},
   "outputs": [
    {
     "data": {
      "text/plain": [
       "True"
      ]
     },
     "execution_count": 1,
     "metadata": {},
     "output_type": "execute_result"
    }
   ],
   "source": [
    "import torch \n",
    "\n",
    "torch.cuda.is_available()"
   ]
  },
  {
   "cell_type": "code",
   "execution_count": 2,
   "metadata": {},
   "outputs": [],
   "source": [
    "import pandas as pd\n",
    "\n",
    "dataset = pd.read_csv('data/labeled_data.csv')"
   ]
  },
  {
   "cell_type": "code",
   "execution_count": 3,
   "metadata": {},
   "outputs": [],
   "source": [
    "allowed_values = ['AP', 'PA', 'LATERAL', 'LL']\n",
    "\n",
    "dataset = dataset[dataset['ViewPosition'].isin(allowed_values)]"
   ]
  },
  {
   "cell_type": "code",
   "execution_count": 4,
   "metadata": {},
   "outputs": [
    {
     "data": {
      "text/plain": [
       "361316"
      ]
     },
     "execution_count": 4,
     "metadata": {},
     "output_type": "execute_result"
    }
   ],
   "source": [
    "len(dataset)"
   ]
  },
  {
   "cell_type": "code",
   "execution_count": 5,
   "metadata": {},
   "outputs": [
    {
     "name": "stdout",
     "output_type": "stream",
     "text": [
      "Len Train Dataset: 352283\n",
      "Len Validation Dataset: 4517\n",
      "Len Test Dataset: 4516\n"
     ]
    }
   ],
   "source": [
    "from sklearn.model_selection import train_test_split\n",
    "\n",
    "train_dataset, test_dataset = train_test_split(dataset, test_size=.025, shuffle=True, random_state=42)\n",
    "test_dataset, validation_dataset = train_test_split(test_dataset, test_size=.5, shuffle=True,random_state=42)\n",
    "\n",
    "print(f'Len Train Dataset: {len(train_dataset)}')\n",
    "print(f'Len Validation Dataset: {len(validation_dataset)}')\n",
    "print(f'Len Test Dataset: {len(test_dataset)}')"
   ]
  },
  {
   "cell_type": "code",
   "execution_count": 6,
   "metadata": {},
   "outputs": [],
   "source": [
    "from torch.utils.data import Dataset\n",
    "from PIL import Image\n",
    "\n",
    "class MedicalDataset(Dataset):\n",
    "    def __init__(self, csv_dataset, transform=None):\n",
    "        super(MedicalDataset, self).__init__()\n",
    "        self.data = csv_dataset\n",
    "        self.transform = transform\n",
    "        \n",
    "        self.label_map = {\n",
    "            'AP': 0,\n",
    "            'PA': 1,\n",
    "            'LATERAL': 2,\n",
    "            'LL': 3\n",
    "        }\n",
    "        \n",
    "        self.data['ViewPosition'] = self.data['ViewPosition'].map(self.label_map)\n",
    "        \n",
    "    def __len__(self):\n",
    "        return len(self.data)\n",
    "    \n",
    "    def __getitem__(self, idx):\n",
    "        row = self.data.iloc[idx]\n",
    "        \n",
    "        image_path = row['Image_Path']\n",
    "        image = Image.open(image_path).convert('L')\n",
    "        \n",
    "        if self.transform:\n",
    "            image = self.transform(image)\n",
    "            \n",
    "        image = image.to('cuda')\n",
    "        \n",
    "        label = torch.tensor(row['ViewPosition'], dtype=torch.long).to('cuda')\n",
    "        \n",
    "        return image, label"
   ]
  },
  {
   "cell_type": "code",
   "execution_count": 7,
   "metadata": {},
   "outputs": [],
   "source": [
    "from torchvision import transforms\n",
    "\n",
    "transform = transforms.Compose([\n",
    "    transforms.Resize((256, 256)),\n",
    "    transforms.Grayscale(num_output_channels=1),\n",
    "    transforms.ToTensor(),\n",
    "    transforms.Normalize(mean=[.5], std=[.5])\n",
    "])\n",
    "\n",
    "train_dataset = MedicalDataset(train_dataset, transform)\n",
    "validation_dataset = MedicalDataset(validation_dataset, transform)\n",
    "test_dataset = MedicalDataset(test_dataset, transform)"
   ]
  },
  {
   "cell_type": "code",
   "execution_count": 8,
   "metadata": {},
   "outputs": [],
   "source": [
    "from torch.utils.data import DataLoader\n",
    "\n",
    "train_dataset = DataLoader(train_dataset, batch_size=32, shuffle=True)\n",
    "validation_dataset = DataLoader(validation_dataset, batch_size=32, shuffle=True)\n",
    "test_dataset = DataLoader(test_dataset, batch_size=32, shuffle=True)"
   ]
  },
  {
   "cell_type": "code",
   "execution_count": 9,
   "metadata": {},
   "outputs": [],
   "source": [
    "from torch import nn\n",
    "\n",
    "class MedicalCNN(nn.Module):\n",
    "    def __init__(self, num_classes=4):\n",
    "        super(MedicalCNN, self).__init__()\n",
    "        \n",
    "        self.conv_1 = nn.Conv2d(in_channels=1, out_channels=32, kernel_size=3, stride=1, padding=1)\n",
    "        self.conv_2 = nn.Conv2d(in_channels=32, out_channels=64, kernel_size=3, stride=1, padding=1)\n",
    "        self.conv_3 = nn.Conv2d(in_channels=64, out_channels=128, kernel_size=3, stride=1, padding=1)\n",
    "        \n",
    "        self.fully_connected_1 = nn.Linear(128 * 32 * 32, 512)\n",
    "        self.fully_connected_2 = nn.Linear(512, num_classes)\n",
    "        \n",
    "        self.pool = nn.MaxPool2d(2, 2)\n",
    "        self.relu = nn.ReLU()\n",
    "        self.dropout = nn.Dropout(p=.5)\n",
    "        \n",
    "        \n",
    "    def forward(self, x):\n",
    "        x = self.pool(self.relu(self.conv_1(x)))\n",
    "        x = self.pool(self.relu(self.conv_2(x)))\n",
    "        x = self.pool(self.relu(self.conv_3(x)))\n",
    "        \n",
    "        x = x.view(-1, 128 * 32 * 32)\n",
    "        x = self.relu(self.fully_connected_1(x))\n",
    "        x = self.dropout(x)\n",
    "        x = self.fully_connected_2(x)\n",
    "        \n",
    "        return x"
   ]
  },
  {
   "cell_type": "code",
   "execution_count": 10,
   "metadata": {},
   "outputs": [],
   "source": [
    "from torch import optim\n",
    "\n",
    "model = MedicalCNN(num_classes=4).to('cuda')\n",
    "\n",
    "criterion = nn.CrossEntropyLoss()\n",
    "optimizer = optim.Adam(model.parameters(), lr=0.001)"
   ]
  },
  {
   "cell_type": "code",
   "execution_count": 11,
   "metadata": {},
   "outputs": [
    {
     "name": "stderr",
     "output_type": "stream",
     "text": [
      "Epoch 1/1:   3%|▎         | 313/11009 [33:31<547:54:09, 184.41s/it]"
     ]
    },
    {
     "name": "stdout",
     "output_type": "stream",
     "text": [
      "Batch 313: Train Loss: 0.38581282192002087 | Train Accuracy: 85.16% | Validation Loss: 0.1714 | Validation Accuracy: 94.64%\n"
     ]
    },
    {
     "name": "stderr",
     "output_type": "stream",
     "text": [
      "Epoch 1/1:   6%|▌         | 626/11009 [58:43<179:46:15, 62.33s/it] "
     ]
    },
    {
     "name": "stdout",
     "output_type": "stream",
     "text": [
      "Batch 626: Train Loss: 0.2764195495109541 | Train Accuracy: 89.99% | Validation Loss: 0.1244 | Validation Accuracy: 96.46%\n"
     ]
    },
    {
     "name": "stderr",
     "output_type": "stream",
     "text": [
      "Epoch 1/1:   9%|▊         | 939/11009 [1:24:53<259:38:47, 92.82s/it]"
     ]
    },
    {
     "name": "stdout",
     "output_type": "stream",
     "text": [
      "Batch 939: Train Loss: 0.23134616775293385 | Train Accuracy: 91.91% | Validation Loss: 0.1059 | Validation Accuracy: 96.97%\n"
     ]
    },
    {
     "name": "stderr",
     "output_type": "stream",
     "text": [
      "Epoch 1/1:  11%|█▏        | 1252/11009 [1:48:20<162:12:24, 59.85s/it]"
     ]
    },
    {
     "name": "stdout",
     "output_type": "stream",
     "text": [
      "Batch 1252: Train Loss: 0.20653875982656647 | Train Accuracy: 92.99% | Validation Loss: 0.1146 | Validation Accuracy: 96.39%\n"
     ]
    },
    {
     "name": "stderr",
     "output_type": "stream",
     "text": [
      "Epoch 1/1:  14%|█▍        | 1565/11009 [2:11:15<156:41:33, 59.73s/it]"
     ]
    },
    {
     "name": "stdout",
     "output_type": "stream",
     "text": [
      "Batch 1565: Train Loss: 0.1893404046726672 | Train Accuracy: 93.68% | Validation Loss: 0.0889 | Validation Accuracy: 97.25%\n"
     ]
    },
    {
     "name": "stderr",
     "output_type": "stream",
     "text": [
      "Epoch 1/1:  17%|█▋        | 1878/11009 [2:34:02<150:55:40, 59.51s/it]"
     ]
    },
    {
     "name": "stdout",
     "output_type": "stream",
     "text": [
      "Batch 1878: Train Loss: 0.1749231472150973 | Train Accuracy: 94.20% | Validation Loss: 0.0930 | Validation Accuracy: 97.43%\n"
     ]
    },
    {
     "name": "stderr",
     "output_type": "stream",
     "text": [
      "Epoch 1/1:  20%|█▉        | 2191/11009 [2:56:34<145:34:47, 59.43s/it]"
     ]
    },
    {
     "name": "stdout",
     "output_type": "stream",
     "text": [
      "Batch 2191: Train Loss: 0.16385414676667653 | Train Accuracy: 94.63% | Validation Loss: 0.0950 | Validation Accuracy: 96.99%\n"
     ]
    },
    {
     "name": "stderr",
     "output_type": "stream",
     "text": [
      "Epoch 1/1:  23%|██▎       | 2504/11009 [3:18:55<140:50:47, 59.62s/it]"
     ]
    },
    {
     "name": "stdout",
     "output_type": "stream",
     "text": [
      "Batch 2504: Train Loss: 0.1554080235191432 | Train Accuracy: 94.97% | Validation Loss: 0.0894 | Validation Accuracy: 97.72%\n"
     ]
    },
    {
     "name": "stderr",
     "output_type": "stream",
     "text": [
      "Epoch 1/1:  26%|██▌       | 2817/11009 [3:41:14<135:13:36, 59.43s/it]"
     ]
    },
    {
     "name": "stdout",
     "output_type": "stream",
     "text": [
      "Batch 2817: Train Loss: 0.14767814052737865 | Train Accuracy: 95.28% | Validation Loss: 0.0764 | Validation Accuracy: 98.05%\n"
     ]
    },
    {
     "name": "stderr",
     "output_type": "stream",
     "text": [
      "Epoch 1/1:  28%|██▊       | 3130/11009 [4:03:33<130:21:23, 59.56s/it]"
     ]
    },
    {
     "name": "stdout",
     "output_type": "stream",
     "text": [
      "Batch 3130: Train Loss: 0.14351599771758547 | Train Accuracy: 95.49% | Validation Loss: 0.0800 | Validation Accuracy: 97.79%\n"
     ]
    },
    {
     "name": "stderr",
     "output_type": "stream",
     "text": [
      "Epoch 1/1:  31%|███▏      | 3443/11009 [4:25:45<125:22:36, 59.66s/it]"
     ]
    },
    {
     "name": "stdout",
     "output_type": "stream",
     "text": [
      "Batch 3443: Train Loss: 0.13820993937712245 | Train Accuracy: 95.72% | Validation Loss: 0.0771 | Validation Accuracy: 98.10%\n"
     ]
    },
    {
     "name": "stderr",
     "output_type": "stream",
     "text": [
      "Epoch 1/1:  34%|███▍      | 3756/11009 [4:48:21<119:49:39, 59.48s/it]"
     ]
    },
    {
     "name": "stdout",
     "output_type": "stream",
     "text": [
      "Batch 3756: Train Loss: 0.1333439629452729 | Train Accuracy: 95.90% | Validation Loss: 0.1185 | Validation Accuracy: 96.46%\n"
     ]
    },
    {
     "name": "stderr",
     "output_type": "stream",
     "text": [
      "Epoch 1/1:  37%|███▋      | 4069/11009 [5:10:51<118:40:15, 61.56s/it]"
     ]
    },
    {
     "name": "stdout",
     "output_type": "stream",
     "text": [
      "Batch 4069: Train Loss: 0.12961351523643558 | Train Accuracy: 96.05% | Validation Loss: 0.0694 | Validation Accuracy: 98.34%\n"
     ]
    },
    {
     "name": "stderr",
     "output_type": "stream",
     "text": [
      "Epoch 1/1:  40%|███▉      | 4382/11009 [5:33:26<109:40:53, 59.58s/it]"
     ]
    },
    {
     "name": "stdout",
     "output_type": "stream",
     "text": [
      "Batch 4382: Train Loss: 0.125534631989318 | Train Accuracy: 96.19% | Validation Loss: 0.0766 | Validation Accuracy: 98.21%\n"
     ]
    },
    {
     "name": "stderr",
     "output_type": "stream",
     "text": [
      "Epoch 1/1:  43%|████▎     | 4695/11009 [5:55:55<103:26:33, 58.98s/it]"
     ]
    },
    {
     "name": "stdout",
     "output_type": "stream",
     "text": [
      "Batch 4695: Train Loss: 0.12214623533749182 | Train Accuracy: 96.30% | Validation Loss: 0.0756 | Validation Accuracy: 98.12%\n"
     ]
    },
    {
     "name": "stderr",
     "output_type": "stream",
     "text": [
      "Epoch 1/1:  45%|████▌     | 5008/11009 [6:18:25<102:56:50, 61.76s/it]"
     ]
    },
    {
     "name": "stdout",
     "output_type": "stream",
     "text": [
      "Batch 5008: Train Loss: 0.1197679149125109 | Train Accuracy: 96.40% | Validation Loss: 0.0741 | Validation Accuracy: 98.16%\n"
     ]
    },
    {
     "name": "stderr",
     "output_type": "stream",
     "text": [
      "Epoch 1/1:  48%|████▊     | 5321/11009 [6:41:29<96:49:47, 61.28s/it] "
     ]
    },
    {
     "name": "stdout",
     "output_type": "stream",
     "text": [
      "Batch 5321: Train Loss: 0.11724199302479386 | Train Accuracy: 96.49% | Validation Loss: 0.0678 | Validation Accuracy: 98.41%\n"
     ]
    },
    {
     "name": "stderr",
     "output_type": "stream",
     "text": [
      "Epoch 1/1:  51%|█████     | 5634/11009 [7:04:45<90:40:09, 60.73s/it]"
     ]
    },
    {
     "name": "stdout",
     "output_type": "stream",
     "text": [
      "Batch 5634: Train Loss: 0.11526138881287701 | Train Accuracy: 96.57% | Validation Loss: 0.0725 | Validation Accuracy: 98.14%\n"
     ]
    },
    {
     "name": "stderr",
     "output_type": "stream",
     "text": [
      "Epoch 1/1:  54%|█████▍    | 5947/11009 [7:28:07<86:17:13, 61.37s/it]"
     ]
    },
    {
     "name": "stdout",
     "output_type": "stream",
     "text": [
      "Batch 5947: Train Loss: 0.11260284856598982 | Train Accuracy: 96.67% | Validation Loss: 0.1018 | Validation Accuracy: 97.45%\n"
     ]
    },
    {
     "name": "stderr",
     "output_type": "stream",
     "text": [
      "Epoch 1/1:  57%|█████▋    | 6260/11009 [7:53:30<81:34:47, 61.84s/it]"
     ]
    },
    {
     "name": "stdout",
     "output_type": "stream",
     "text": [
      "Batch 6260: Train Loss: 0.11097723173669177 | Train Accuracy: 96.73% | Validation Loss: 0.0749 | Validation Accuracy: 98.25%\n"
     ]
    },
    {
     "name": "stderr",
     "output_type": "stream",
     "text": [
      "Epoch 1/1:  60%|█████▉    | 6573/11009 [8:18:58<76:06:45, 61.77s/it]"
     ]
    },
    {
     "name": "stdout",
     "output_type": "stream",
     "text": [
      "Batch 6573: Train Loss: 0.10971809773783368 | Train Accuracy: 96.79% | Validation Loss: 0.0627 | Validation Accuracy: 98.58%\n"
     ]
    },
    {
     "name": "stderr",
     "output_type": "stream",
     "text": [
      "Epoch 1/1:  63%|██████▎   | 6886/11009 [8:43:39<70:55:54, 61.93s/it]"
     ]
    },
    {
     "name": "stdout",
     "output_type": "stream",
     "text": [
      "Batch 6886: Train Loss: 0.10782500944685643 | Train Accuracy: 96.86% | Validation Loss: 0.0653 | Validation Accuracy: 98.36%\n"
     ]
    },
    {
     "name": "stderr",
     "output_type": "stream",
     "text": [
      "Epoch 1/1:  65%|██████▌   | 7199/11009 [9:09:06<65:19:45, 61.73s/it]"
     ]
    },
    {
     "name": "stdout",
     "output_type": "stream",
     "text": [
      "Batch 7199: Train Loss: 0.10615097154728118 | Train Accuracy: 96.93% | Validation Loss: 0.0797 | Validation Accuracy: 97.70%\n"
     ]
    },
    {
     "name": "stderr",
     "output_type": "stream",
     "text": [
      "Epoch 1/1:  68%|██████▊   | 7512/11009 [9:35:10<60:45:06, 62.54s/it]"
     ]
    },
    {
     "name": "stdout",
     "output_type": "stream",
     "text": [
      "Batch 7512: Train Loss: 0.10453411091851575 | Train Accuracy: 96.99% | Validation Loss: 0.0687 | Validation Accuracy: 98.36%\n"
     ]
    },
    {
     "name": "stderr",
     "output_type": "stream",
     "text": [
      "Epoch 1/1:  71%|███████   | 7825/11009 [9:58:15<51:12:17, 57.89s/it]"
     ]
    },
    {
     "name": "stdout",
     "output_type": "stream",
     "text": [
      "Batch 7825: Train Loss: 0.10290596592509316 | Train Accuracy: 97.04% | Validation Loss: 0.0634 | Validation Accuracy: 98.41%\n"
     ]
    },
    {
     "name": "stderr",
     "output_type": "stream",
     "text": [
      "Epoch 1/1:  74%|███████▍  | 8138/11009 [10:22:12<46:17:59, 58.06s/it]"
     ]
    },
    {
     "name": "stdout",
     "output_type": "stream",
     "text": [
      "Batch 8138: Train Loss: 0.10174991923902958 | Train Accuracy: 97.09% | Validation Loss: 0.0749 | Validation Accuracy: 98.25%\n"
     ]
    },
    {
     "name": "stderr",
     "output_type": "stream",
     "text": [
      "Epoch 1/1:  77%|███████▋  | 8451/11009 [10:46:49<41:04:08, 57.80s/it]"
     ]
    },
    {
     "name": "stdout",
     "output_type": "stream",
     "text": [
      "Batch 8451: Train Loss: 0.10042150706912664 | Train Accuracy: 97.14% | Validation Loss: 0.0607 | Validation Accuracy: 98.65%\n"
     ]
    },
    {
     "name": "stderr",
     "output_type": "stream",
     "text": [
      "Epoch 1/1:  80%|███████▉  | 8764/11009 [11:11:08<36:05:54, 57.89s/it]"
     ]
    },
    {
     "name": "stdout",
     "output_type": "stream",
     "text": [
      "Batch 8764: Train Loss: 0.0992081664364331 | Train Accuracy: 97.18% | Validation Loss: 0.0636 | Validation Accuracy: 98.52%\n"
     ]
    },
    {
     "name": "stderr",
     "output_type": "stream",
     "text": [
      "Epoch 1/1:  82%|████████▏ | 9077/11009 [11:34:22<31:02:35, 57.84s/it]"
     ]
    },
    {
     "name": "stdout",
     "output_type": "stream",
     "text": [
      "Batch 9077: Train Loss: 0.09786303739066397 | Train Accuracy: 97.23% | Validation Loss: 0.0655 | Validation Accuracy: 98.49%\n"
     ]
    },
    {
     "name": "stderr",
     "output_type": "stream",
     "text": [
      "Epoch 1/1:  85%|████████▌ | 9390/11009 [11:58:14<26:07:02, 58.07s/it]"
     ]
    },
    {
     "name": "stdout",
     "output_type": "stream",
     "text": [
      "Batch 9390: Train Loss: 0.09714852670427587 | Train Accuracy: 97.27% | Validation Loss: 0.0679 | Validation Accuracy: 98.16%\n"
     ]
    },
    {
     "name": "stderr",
     "output_type": "stream",
     "text": [
      "Epoch 1/1:  88%|████████▊ | 9703/11009 [12:21:09<21:02:21, 58.00s/it]"
     ]
    },
    {
     "name": "stdout",
     "output_type": "stream",
     "text": [
      "Batch 9703: Train Loss: 0.09642075731507457 | Train Accuracy: 97.29% | Validation Loss: 0.0622 | Validation Accuracy: 98.52%\n"
     ]
    },
    {
     "name": "stderr",
     "output_type": "stream",
     "text": [
      "Epoch 1/1:  91%|█████████ | 10016/11009 [12:46:17<15:57:49, 57.88s/it]"
     ]
    },
    {
     "name": "stdout",
     "output_type": "stream",
     "text": [
      "Batch 10016: Train Loss: 0.09523248128138098 | Train Accuracy: 97.34% | Validation Loss: 0.0604 | Validation Accuracy: 98.61%\n"
     ]
    },
    {
     "name": "stderr",
     "output_type": "stream",
     "text": [
      "Epoch 1/1:  94%|█████████▍| 10329/11009 [13:10:42<10:56:23, 57.92s/it]"
     ]
    },
    {
     "name": "stdout",
     "output_type": "stream",
     "text": [
      "Batch 10329: Train Loss: 0.09445463369090683 | Train Accuracy: 97.37% | Validation Loss: 0.0625 | Validation Accuracy: 98.58%\n"
     ]
    },
    {
     "name": "stderr",
     "output_type": "stream",
     "text": [
      "Epoch 1/1:  97%|█████████▋| 10642/11009 [13:35:56<5:55:22, 58.10s/it] "
     ]
    },
    {
     "name": "stdout",
     "output_type": "stream",
     "text": [
      "Batch 10642: Train Loss: 0.09363973015467937 | Train Accuracy: 97.40% | Validation Loss: 0.0576 | Validation Accuracy: 98.56%\n"
     ]
    },
    {
     "name": "stderr",
     "output_type": "stream",
     "text": [
      "Epoch 1/1: 100%|█████████▉| 10955/11009 [14:00:29<52:11, 57.99s/it]  "
     ]
    },
    {
     "name": "stdout",
     "output_type": "stream",
     "text": [
      "Batch 10955: Train Loss: 0.09240689024316885 | Train Accuracy: 97.44% | Validation Loss: 0.0631 | Validation Accuracy: 98.67%\n"
     ]
    },
    {
     "name": "stderr",
     "output_type": "stream",
     "text": [
      "Epoch 1/1: 100%|██████████| 11009/11009 [14:03:53<00:00,  4.60s/it]"
     ]
    },
    {
     "name": "stdout",
     "output_type": "stream",
     "text": [
      "Train Loss: 0.0923, Train Accuracy: 97.45%\n"
     ]
    },
    {
     "name": "stderr",
     "output_type": "stream",
     "text": [
      "\n"
     ]
    }
   ],
   "source": [
    "from tqdm import tqdm\n",
    "\n",
    "num_epochs = 1\n",
    "\n",
    "for epoch in range(num_epochs):\n",
    "    running_loss = 0.0\n",
    "    correct = 0\n",
    "    total = 0\n",
    "    batch_count = 0\n",
    "\n",
    "    for images, labels in tqdm(train_dataset, desc=f\"Epoch {epoch+1}/{num_epochs}\"):\n",
    "        images, labels = images.to('cuda'), labels.to('cuda')\n",
    "        model.train()\n",
    "        \n",
    "        outputs = model(images)\n",
    "        loss = criterion(outputs, labels)\n",
    "        \n",
    "        optimizer.zero_grad()\n",
    "        loss.backward()\n",
    "        optimizer.step()\n",
    "        \n",
    "        running_loss += loss.item()\n",
    "        \n",
    "        _, predicted = torch.max(outputs, 1)\n",
    "        total += labels.size(0)\n",
    "        correct += (predicted == labels).sum().item()\n",
    "        \n",
    "        batch_count += 1\n",
    "        if batch_count % 313 == 0:\n",
    "            model.eval()\n",
    "            valid_loss = 0.0\n",
    "            valid_correct = 0\n",
    "            valid_total = 0\n",
    "            \n",
    "            with torch.no_grad():\n",
    "                for valid_images, valid_labels in validation_dataset:\n",
    "                    valid_images, valid_labels = valid_images.to('cuda'), valid_labels.to('cuda')\n",
    "                    valid_outputs = model(valid_images)\n",
    "                    valid_loss_item = criterion(valid_outputs, valid_labels)\n",
    "                    \n",
    "                    valid_loss += valid_loss_item.item()\n",
    "                    _, valid_predicted = torch.max(valid_outputs, 1)\n",
    "                    valid_total += valid_labels.size(0)\n",
    "                    valid_correct += (valid_predicted == valid_labels).sum().item()\n",
    "\n",
    "            valid_loss = valid_loss / len(validation_dataset)\n",
    "            valid_accuracy = 100 * valid_correct / valid_total\n",
    "            print(f\"Batch {batch_count}: Train Loss: {running_loss / (batch_count)} | \"\n",
    "                  f\"Train Accuracy: {100 * correct / total:.2f}% | \"\n",
    "                  f\"Validation Loss: {valid_loss:.4f} | Validation Accuracy: {valid_accuracy:.2f}%\")\n",
    "\n",
    "    epoch_loss = running_loss / len(train_dataset)\n",
    "    epoch_accuracy = 100 * correct / total\n",
    "    print(f\"Train Loss: {epoch_loss:.4f}, Train Accuracy: {epoch_accuracy:.2f}%\")"
   ]
  },
  {
   "cell_type": "code",
   "execution_count": 12,
   "metadata": {},
   "outputs": [],
   "source": [
    "torch.save(model.state_dict(), 'model_1.pth')"
   ]
  },
  {
   "cell_type": "code",
   "execution_count": 13,
   "metadata": {},
   "outputs": [],
   "source": [
    "model.eval()\n",
    "test_loss = 0.0\n",
    "correct = 0\n",
    "total = 0\n",
    "\n",
    "with torch.no_grad():\n",
    "    for images, labels in test_dataset:\n",
    "        images, labels = images.to('cuda'), labels.to('cuda')\n",
    "        outputs = model(images)\n",
    "        loss = criterion(outputs, labels)\n",
    "        \n",
    "        test_loss += loss.item()\n",
    "        _, predicted = torch.max(outputs, 1)\n",
    "        total += labels.size(0)\n",
    "        correct += (predicted == labels).sum().item()\n",
    "\n",
    "test_loss = test_loss / len(test_dataset)\n",
    "test_accuracy = 100 * correct / total\n",
    "print(f\"Test Loss: {test_loss:.4f}, Test Accuracy: {test_accuracy:.2f}%\")"
   ]
  }
 ],
 "metadata": {
  "kernelspec": {
   "display_name": "base",
   "language": "python",
   "name": "python3"
  },
  "language_info": {
   "codemirror_mode": {
    "name": "ipython",
    "version": 3
   },
   "file_extension": ".py",
   "mimetype": "text/x-python",
   "name": "python",
   "nbconvert_exporter": "python",
   "pygments_lexer": "ipython3",
   "version": "3.11.5"
  }
 },
 "nbformat": 4,
 "nbformat_minor": 2
}
